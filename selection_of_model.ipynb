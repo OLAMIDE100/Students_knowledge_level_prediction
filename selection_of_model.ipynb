{
 "cells": [
  {
   "cell_type": "code",
   "execution_count": 1,
   "metadata": {},
   "outputs": [],
   "source": [
    "import numpy as np\n",
    "import matplotlib.pyplot as plt\n",
    "from sklearn.naive_bayes import BernoulliNB, ComplementNB, MultinomialNB,GaussianNB\n",
    "from sklearn.utils.extmath import density\n",
    "from sklearn import metrics\n",
    "import seaborn as sns\n",
    "import pandas as pd\n",
    "from sklearn import metrics"
   ]
  },
  {
   "cell_type": "code",
   "execution_count": 2,
   "metadata": {},
   "outputs": [],
   "source": [
    "data = pd.ExcelFile(r'C:\\Users\\OLAMIDE\\Desktop\\MACHINE_LEARNING_PROJECTS\\Students_knowledge_level_prediction\\data.xls')"
   ]
  },
  {
   "cell_type": "code",
   "execution_count": 3,
   "metadata": {},
   "outputs": [],
   "source": [
    "train_data = pd.read_excel(data,sheet_name='Training_Data')\n",
    "train_data = train_data.drop(['Attribute Information:','Unnamed: 7','Unnamed: 6'],axis=1)"
   ]
  },
  {
   "cell_type": "code",
   "execution_count": 4,
   "metadata": {},
   "outputs": [],
   "source": [
    "b = []\n",
    "from sklearn import preprocessing\n",
    "encoder = preprocessing.LabelEncoder()\n",
    "encoded = encoder.fit_transform(train_data[' UNS'])\n",
    "b.append(encoded)\n",
    "new_data = pd.DataFrame(b)\n",
    "encoded_data = new_data.transpose()\n",
    "encoded_data\n",
    "encoded_data.columns = ['encoded_data']\n",
    "train_data = train_data.join(encoded_data['encoded_data'])"
   ]
  },
  {
   "cell_type": "code",
   "execution_count": 5,
   "metadata": {},
   "outputs": [],
   "source": [
    "test_data = pd.read_excel(data,sheet_name='Test_Data')\n",
    "test_data = test_data.drop(['Attribute Information:','Unnamed: 7','Unnamed: 6'],axis=1)"
   ]
  },
  {
   "cell_type": "code",
   "execution_count": 6,
   "metadata": {},
   "outputs": [],
   "source": [
    "b = []\n",
    "from sklearn import preprocessing\n",
    "encoder = preprocessing.LabelEncoder()\n",
    "encoded = encoder.fit_transform(test_data[' UNS'])\n",
    "b.append(encoded)\n",
    "new_data = pd.DataFrame(b)\n",
    "encoded_data = new_data.transpose()\n",
    "encoded_data\n",
    "encoded_data.columns = ['encoded_data']\n",
    "test_data = test_data.join(encoded_data['encoded_data'])"
   ]
  },
  {
   "cell_type": "code",
   "execution_count": 7,
   "metadata": {},
   "outputs": [],
   "source": [
    "featurestrain = train_data.drop([' UNS','encoded_data'], axis=1)\n",
    "targettrain = train_data['encoded_data']"
   ]
  },
  {
   "cell_type": "code",
   "execution_count": 8,
   "metadata": {},
   "outputs": [],
   "source": [
    "featurestest = test_data.drop([' UNS','encoded_data'], axis=1)\n",
    "targettest = test_data['encoded_data']"
   ]
  },
  {
   "cell_type": "code",
   "execution_count": 9,
   "metadata": {},
   "outputs": [],
   "source": [
    "mapping = {'High':0,'Low':1,'Middle':2,'VeryLow':3}\n",
    "k = {0:'High',1:'Low',2:'Middle',3:'VeryLow'}"
   ]
  },
  {
   "cell_type": "code",
   "execution_count": 13,
   "metadata": {},
   "outputs": [
    {
     "name": "stdout",
     "output_type": "stream",
     "text": [
      "================================================================================\n",
      "Naive Bayes\n",
      "________________________________________________________________________________\n",
      "Training: \n",
      "MultinomialNB(alpha=0.01)\n",
      "Predicted Value: Low\n",
      "accuracy:   0.262\n",
      "________________________________________________________________________________\n",
      "Training: \n",
      "BernoulliNB(alpha=0.01)\n",
      "Predicted Value: High\n",
      "accuracy:   0.241\n",
      "________________________________________________________________________________\n",
      "Training: \n",
      "ComplementNB(alpha=0.1)\n",
      "Predicted Value: Low\n",
      "accuracy:   0.428\n",
      "________________________________________________________________________________\n",
      "Training: \n",
      "GaussianNB()\n",
      "Predicted Value: VeryLow\n",
      "accuracy:   0.841\n"
     ]
    }
   ],
   "source": [
    "def benchmark(clf):\n",
    "    print('_' * 80)\n",
    "    print(\"Training: \")\n",
    "    print(clf)\n",
    "    clf.fit(featurestrain, targettrain)\n",
    "    \n",
    "    Predicted = clf.predict(featurestest)\n",
    "    \n",
    "    predicted = clf.predict([[0.00,0.10,0.50,0.26,0.05]])\n",
    "    print(\"Predicted Value:\", k[predicted[0]])\n",
    "\n",
    "    score = metrics.accuracy_score(targettest, Predicted)\n",
    "    print(\"accuracy:   %0.3f\" % score)\n",
    "    \n",
    "    clf_descr = str(clf).split('(')[0]\n",
    "    return clf_descr, score\n",
    "\n",
    "results = []\n",
    "\n",
    "print('=' * 80)\n",
    "print(\"Naive Bayes\")\n",
    "results.append(benchmark(MultinomialNB(alpha=.01)))\n",
    "results.append(benchmark(BernoulliNB(alpha=.01)))\n",
    "results.append(benchmark(ComplementNB(alpha=.1)))\n",
    "results.append(benchmark(GaussianNB()))"
   ]
  },
  {
   "cell_type": "code",
   "execution_count": null,
   "metadata": {},
   "outputs": [],
   "source": []
  }
 ],
 "metadata": {
  "kernelspec": {
   "display_name": "Python 3",
   "language": "python",
   "name": "python3"
  },
  "language_info": {
   "codemirror_mode": {
    "name": "ipython",
    "version": 3
   },
   "file_extension": ".py",
   "mimetype": "text/x-python",
   "name": "python",
   "nbconvert_exporter": "python",
   "pygments_lexer": "ipython3",
   "version": "3.8.5"
  }
 },
 "nbformat": 4,
 "nbformat_minor": 4
}
